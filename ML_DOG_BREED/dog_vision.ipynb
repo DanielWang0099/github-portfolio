{
  "nbformat": 4,
  "nbformat_minor": 0,
  "metadata": {
    "colab": {
      "provenance": [],
      "gpuType": "T4"
    },
    "kernelspec": {
      "name": "python3",
      "display_name": "Python 3"
    },
    "language_info": {
      "name": "python"
    },
    "accelerator": "GPU"
  },
  "cells": [
    {
      "cell_type": "code",
      "source": [
        "import tensorflow as tf\n",
        "import tensorflow_hub as hub\n",
        "\n",
        "tf.__version__\n",
        "hub.__version__"
      ],
      "metadata": {
        "id": "W5HzNRGUMNA0"
      },
      "execution_count": null,
      "outputs": []
    },
    {
      "cell_type": "code",
      "source": [
        "print(tf.config.list_physical_devices(\"GPU\"))\n",
        "print( \"YESS\" if tf.config.list_physical_devices(\"GPU\") else \"NOPE\")"
      ],
      "metadata": {
        "id": "JCvF3I_jJs5T"
      },
      "execution_count": null,
      "outputs": []
    },
    {
      "cell_type": "code",
      "source": [
        "import numpy as np\n",
        "import pandas as pd\n",
        "\n",
        "labels_csv = pd.read_csv(\"/content/drive/MyDrive/Colab Notebooks/dog-breed-identification/labels.csv\")\n",
        "labels_csv.head()"
      ],
      "metadata": {
        "id": "Wps3bGQYLz2b"
      },
      "execution_count": null,
      "outputs": []
    },
    {
      "cell_type": "code",
      "source": [
        "labels_csv.describe()"
      ],
      "metadata": {
        "id": "qihRgMXSji5_"
      },
      "execution_count": null,
      "outputs": []
    },
    {
      "cell_type": "code",
      "source": [
        "# prompt: create graph of value counts of breeds column in df labels_csv with a line in representing the mean\n",
        "\n",
        "import matplotlib.pyplot as plt\n",
        "\n",
        "# Assuming labels_csv is already loaded as in your previous code\n",
        "breed_counts = labels_csv[\"breed\"].value_counts()\n",
        "mean_count = np.mean(breed_counts)\n",
        "\n",
        "plt.figure(figsize=(23, 6))\n",
        "breed_counts.plot(kind=\"bar\")\n",
        "plt.axhline(mean_count, color='r', linestyle='--', label=f'Mean Count: {mean_count:.2f}')\n",
        "plt.xlabel(\"Breed\")\n",
        "plt.ylabel(\"Count\")\n",
        "plt.title(\"Value Counts of Breeds\")\n",
        "plt.legend()\n",
        "plt.show()"
      ],
      "metadata": {
        "id": "BMbITHrXnAEZ"
      },
      "execution_count": null,
      "outputs": []
    },
    {
      "cell_type": "code",
      "source": [
        "from IPython.display import Image\n",
        "\n",
        "Image(\"/content/drive/MyDrive/Colab Notebooks/dog-breed-identification/train/001513dfcb2ffafc82cccf4d8bbaba97.jpg\")"
      ],
      "metadata": {
        "id": "TkxW8isGnpo6"
      },
      "execution_count": null,
      "outputs": []
    },
    {
      "cell_type": "code",
      "source": [
        "filenames = [filename for filename in labels_csv[\"id\"].apply(lambda x: f\"/content/drive/MyDrive/Colab Notebooks/dog-breed-identification/train/{x}.jpg\")]"
      ],
      "metadata": {
        "id": "Ib5MhFqQqh_5"
      },
      "execution_count": null,
      "outputs": []
    },
    {
      "cell_type": "code",
      "source": [
        "len(filenames)"
      ],
      "metadata": {
        "id": "jGxQhpdQtl5p"
      },
      "execution_count": null,
      "outputs": []
    },
    {
      "cell_type": "code",
      "source": [
        "import os\n",
        "os.listdir(\"/content/drive/MyDrive/Colab Notebooks/dog-breed-identification/train\")"
      ],
      "metadata": {
        "id": "dY93eSUntxCA"
      },
      "execution_count": null,
      "outputs": []
    },
    {
      "cell_type": "code",
      "source": [
        "labels = np.array(labels_csv[\"breed\"])"
      ],
      "metadata": {
        "id": "S_YqESEuuCJo"
      },
      "execution_count": null,
      "outputs": []
    },
    {
      "cell_type": "code",
      "source": [
        "unique_labels = np.unique(labels)\n",
        "len(unique_labels)"
      ],
      "metadata": {
        "id": "rcw-_z5wREa6"
      },
      "execution_count": null,
      "outputs": []
    },
    {
      "cell_type": "code",
      "source": [
        "print(labels[0])\n",
        "labels[0] == unique_labels"
      ],
      "metadata": {
        "id": "ZQjeZJESTDfa"
      },
      "execution_count": null,
      "outputs": []
    },
    {
      "cell_type": "code",
      "source": [
        "boolean_labels = [label == unique_labels for label in labels]\n",
        "boolean_labels[:2]"
      ],
      "metadata": {
        "id": "58NO4CdyTpsj"
      },
      "execution_count": null,
      "outputs": []
    },
    {
      "cell_type": "code",
      "source": [
        "print(labels[0])\n",
        "print(np.where(unique_labels == labels[0]))\n",
        "print(boolean_labels[0].argmax())\n",
        "print(boolean_labels[0].astype(int))"
      ],
      "metadata": {
        "id": "lP5m8wXOT-Ho"
      },
      "execution_count": null,
      "outputs": []
    },
    {
      "cell_type": "code",
      "source": [
        "X = filenames\n",
        "y = boolean_labels"
      ],
      "metadata": {
        "id": "ZZ1sg3C5V8fD"
      },
      "execution_count": null,
      "outputs": []
    },
    {
      "cell_type": "code",
      "source": [
        "NUM_IMAGES = 1000 #@param {type: \"slider\", min: 1000, max: 10000, step: 1000}"
      ],
      "metadata": {
        "id": "2tE8FU6fXIrE"
      },
      "execution_count": null,
      "outputs": []
    },
    {
      "cell_type": "code",
      "source": [
        "from sklearn.model_selection import train_test_split\n",
        "\n",
        "X_train, X_val, y_train, y_val = train_test_split(X[:NUM_IMAGES],\n",
        "                                                    y[:NUM_IMAGES],\n",
        "                                                    test_size = 0.2,\n",
        "                                                    random_state = 42)\n",
        "\n",
        "print(len(X_train), len(X_val), len(y_train), len(y_val))"
      ],
      "metadata": {
        "id": "ZGMUzPVVYUDa"
      },
      "execution_count": null,
      "outputs": []
    },
    {
      "cell_type": "code",
      "source": [
        "from matplotlib.pyplot import imread\n",
        "\n",
        "image = imread(filenames[42])\n",
        "image.shape"
      ],
      "metadata": {
        "id": "n7pWP8vJZB_k"
      },
      "execution_count": null,
      "outputs": []
    },
    {
      "cell_type": "code",
      "source": [
        "tensor = tf.constant(image)\n",
        "tensor.shape, tensor.ndim, tf.size(tensor)"
      ],
      "metadata": {
        "id": "X0SrMT0GtAkA"
      },
      "execution_count": null,
      "outputs": []
    },
    {
      "cell_type": "code",
      "source": [
        "IMG_SIZE = 224\n",
        "\n",
        "def process_image(image_path, img_size = IMG_SIZE):\n",
        "  image = tf.io.read_file(image_path)\n",
        "  image = tf.image.decode_jpeg(image, channels = 3)\n",
        "  image = tf.image.convert_image_dtype(image, tf.float32)\n",
        "  image = tf.image.resize(image, size = [img_size, img_size])\n",
        "  return image"
      ],
      "metadata": {
        "id": "WGF51yy9tl4d"
      },
      "execution_count": null,
      "outputs": []
    },
    {
      "cell_type": "code",
      "source": [
        "def get_image_label(image_path, label):\n",
        "  image = process_image(image_path)\n",
        "  return image, label"
      ],
      "metadata": {
        "id": "hp-N_se73wui"
      },
      "execution_count": null,
      "outputs": []
    },
    {
      "cell_type": "code",
      "source": [
        "(process_image(X[42]), tf.constant(y[42]))"
      ],
      "metadata": {
        "id": "v1-QWZTDxV_l"
      },
      "execution_count": null,
      "outputs": []
    },
    {
      "cell_type": "code",
      "source": [
        "BATCH_SIZE = 32 #@param {type: \"slider\", min: 0, max: 64, step: 4}"
      ],
      "metadata": {
        "id": "WAiWDv_TxdU-"
      },
      "execution_count": null,
      "outputs": []
    },
    {
      "cell_type": "code",
      "source": [
        "def create_data_batches(X, y = None, batch_size = BATCH_SIZE, valid_data = False, test_data = False):\n",
        "    if test_data:\n",
        "        print(\"Creating test data batches...\")\n",
        "        data = tf.data.Dataset.from_tensor_slices((tf.constant(X)))\n",
        "        print(data)\n",
        "        data_batch = data.map(process_image).batch(batch_size)\n",
        "        return data_batch\n",
        "\n",
        "    elif valid_data:\n",
        "        print(\"Creating validation data batches...\")\n",
        "        data = tf.data.Dataset.from_tensor_slices((tf.constant(X), tf.constant(y)))\n",
        "        data_batch = data.map(get_image_label).batch(batch_size)\n",
        "        return data_batch\n",
        "\n",
        "    else:\n",
        "        print(\"Creating training data batches...\")\n",
        "        data = tf.data.Dataset.from_tensor_slices((tf.constant(X), tf.constant(y)))\n",
        "        data = data.shuffle(buffer_size = len(X))\n",
        "        data = data.map(get_image_label)\n",
        "        data_batch = data.batch(batch_size)\n",
        "        return data_batch"
      ],
      "metadata": {
        "id": "CH28cdOg9OXA"
      },
      "execution_count": null,
      "outputs": []
    },
    {
      "cell_type": "code",
      "source": [
        "train_data = create_data_batches(X_train, y_train)\n",
        "val_data = create_data_batches(X_val, y_val, valid_data = True)"
      ],
      "metadata": {
        "id": "nLY4JLUs_iFR"
      },
      "execution_count": null,
      "outputs": []
    },
    {
      "cell_type": "code",
      "source": [
        "train_data.element_spec, val_data.element_spec"
      ],
      "metadata": {
        "id": "712a-aAp_256"
      },
      "execution_count": null,
      "outputs": []
    },
    {
      "cell_type": "code",
      "source": [
        "train_images, train_labels = next(train_data.as_numpy_iterator())\n",
        "train_images.shape, train_labels.shape"
      ],
      "metadata": {
        "id": "HkYDp0z4jpJT"
      },
      "execution_count": null,
      "outputs": []
    },
    {
      "cell_type": "code",
      "source": [
        "import matplotlib.pyplot as plt\n",
        "\n",
        "\n",
        "def show_25_images(images, labels):\n",
        "    plt.figure(figsize = (10, 10))\n",
        "    for i in range(25):\n",
        "        ax = plt.subplot(5, 5, i + 1)\n",
        "        plt.imshow(images[i])\n",
        "        plt.title(unique_labels[labels[i].argmax()])\n",
        "        plt.axis(\"off\")"
      ],
      "metadata": {
        "id": "lP9F_5Fl_6ky"
      },
      "execution_count": null,
      "outputs": []
    },
    {
      "cell_type": "code",
      "source": [
        "show_25_images(train_images, train_labels)"
      ],
      "metadata": {
        "id": "oASVoEJ8jEu4"
      },
      "execution_count": null,
      "outputs": []
    },
    {
      "cell_type": "code",
      "source": [
        "val_images, val_labels = next(val_data.as_numpy_iterator())\n",
        "show_25_images(val_images, val_labels)"
      ],
      "metadata": {
        "id": "Y2Y2A4LcjRXm"
      },
      "execution_count": null,
      "outputs": []
    },
    {
      "cell_type": "code",
      "source": [],
      "metadata": {
        "id": "Q0yI-nqbkVM1"
      },
      "execution_count": null,
      "outputs": []
    }
  ]
}